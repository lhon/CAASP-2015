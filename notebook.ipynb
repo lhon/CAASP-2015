{
 "cells": [
  {
   "cell_type": "code",
   "execution_count": 1,
   "metadata": {
    "collapsed": true,
    "extensions": {
     "jupyter_dashboards": {
      "version": 1,
      "views": {
       "grid_default": {
        "hidden": true
       },
       "report_default": {
        "hidden": true
       }
      }
     }
    }
   },
   "outputs": [],
   "source": [
    "import json\n",
    "inputs = json.load(open('inputs.json'))"
   ]
  },
  {
   "cell_type": "code",
   "execution_count": 2,
   "metadata": {
    "collapsed": false,
    "extensions": {
     "jupyter_dashboards": {
      "version": 1,
      "views": {
       "grid_default": {},
       "report_default": {
        "hidden": true
       }
      }
     }
    }
   },
   "outputs": [],
   "source": [
    "# make sure we're in project directory where the data is sitting\n",
    "import os\n",
    "os.chdir(os.environ['PROJECT_DIR'])"
   ]
  },
  {
   "cell_type": "code",
   "execution_count": 3,
   "metadata": {
    "collapsed": false,
    "extensions": {
     "jupyter_dashboards": {
      "version": 1,
      "views": {
       "grid_default": {
        "hidden": true
       },
       "report_default": {
        "hidden": true
       }
      }
     }
    }
   },
   "outputs": [],
   "source": [
    "# load scores\n",
    "import pandas as pd\n",
    "from cStringIO import StringIO\n",
    "import zipfile\n",
    "with zipfile.ZipFile('ca2015_1_csv_v3.zip') as zf:\n",
    "    f = StringIO(zf.read('ca2015_1_csv_v3.txt'))\n",
    "    make_int = lambda x: int(x) if x != '*' else 0\n",
    "    df = pd.read_csv(f,\n",
    "                usecols=['Grade', 'Test Id', 'County Code', 'District Code', 'School Code', 'Percentage Standard Exceeded', 'Percentage Standard Met', 'Percentage Standard Nearly Met', 'Percentage Standard Not Met'],\n",
    "                dtype={'County Code' : str, 'District Code': str, 'School Code' : str }, \n",
    "                converters={'Percentage Standard Exceeded' : make_int, 'Percentage Standard Met' : make_int,\n",
    "                       'Percentage Standard Nearly Met' : make_int, 'Percentage Standard Not Met' : make_int,\n",
    "                      })"
   ]
  },
  {
   "cell_type": "code",
   "execution_count": 4,
   "metadata": {
    "collapsed": true,
    "extensions": {
     "jupyter_dashboards": {
      "version": 1,
      "views": {
       "grid_default": {
        "hidden": true
       },
       "report_default": {
        "hidden": true
       }
      }
     }
    }
   },
   "outputs": [],
   "source": [
    "# merge school information with scores\n",
    "school_df = pd.read_csv('pubschls.zip', sep='\\t', header=0, dtype={'CDSCode' : str}, \n",
    "                                usecols='CDSCode District Latitude Longitude School'.split())\n",
    "\n",
    "school_df.set_index('CDSCode', inplace=True)\n",
    "\n",
    "df['CDSCode'] = df['County Code'] + df['District Code'] + df['School Code']\n",
    "df.set_index('CDSCode', inplace=True)\n",
    "\n",
    "joined_df = df.join(school_df, how='inner')"
   ]
  },
  {
   "cell_type": "code",
   "execution_count": 5,
   "metadata": {
    "collapsed": false,
    "extensions": {
     "jupyter_dashboards": {
      "version": 1,
      "views": {
       "grid_default": {
        "col": 0,
        "height": 5,
        "hidden": true,
        "row": 0,
        "width": 4
       },
       "report_default": {
        "hidden": true
       }
      }
     }
    }
   },
   "outputs": [
    {
     "data": {
      "text/plain": [
       "Index([u'County Code', u'District Code', u'School Code', u'Grade', u'Test Id',\n",
       "       u'Percentage Standard Exceeded', u'Percentage Standard Met',\n",
       "       u'Percentage Standard Nearly Met', u'Percentage Standard Not Met'],\n",
       "      dtype='object')"
      ]
     },
     "execution_count": 5,
     "metadata": {},
     "output_type": "execute_result"
    }
   ],
   "source": [
    "df.columns"
   ]
  },
  {
   "cell_type": "code",
   "execution_count": 6,
   "metadata": {
    "collapsed": false,
    "extensions": {
     "jupyter_dashboards": {
      "version": 1,
      "views": {
       "grid_default": {
        "col": 4,
        "height": 4,
        "hidden": true,
        "row": 0,
        "width": 4
       },
       "report_default": {
        "hidden": true
       }
      }
     }
    }
   },
   "outputs": [
    {
     "data": {
      "text/plain": [
       "array([ 3,  4,  5,  6,  7,  8, 11, 13])"
      ]
     },
     "execution_count": 6,
     "metadata": {},
     "output_type": "execute_result"
    }
   ],
   "source": [
    "df.Grade.unique()"
   ]
  },
  {
   "cell_type": "code",
   "execution_count": 7,
   "metadata": {
    "collapsed": false,
    "extensions": {
     "jupyter_dashboards": {
      "version": 1,
      "views": {
       "grid_default": {
        "col": 8,
        "height": 4,
        "hidden": true,
        "row": 0,
        "width": 4
       },
       "report_default": {
        "hidden": true
       }
      }
     }
    }
   },
   "outputs": [
    {
     "data": {
      "text/plain": [
       "array([2, 1])"
      ]
     },
     "execution_count": 7,
     "metadata": {},
     "output_type": "execute_result"
    }
   ],
   "source": [
    "df['Test Id'].unique()"
   ]
  },
  {
   "cell_type": "code",
   "execution_count": 8,
   "metadata": {
    "collapsed": true,
    "extensions": {
     "jupyter_dashboards": {
      "version": 1,
      "views": {
       "grid_default": {
        "hidden": true
       },
       "report_default": {
        "hidden": true
       }
      }
     }
    }
   },
   "outputs": [],
   "source": [
    "# use the Google Maps API to a GPS coordinate from an address\n",
    "def get_geocoordinate(search_text):\n",
    "    import urllib, urllib2\n",
    "    search_text = search_text.strip()\n",
    "        \n",
    "    geocode = json.loads(urllib2.urlopen(\n",
    "        'http://maps.googleapis.com/maps/api/geocode/json?address=%s&sensor=false' % urllib.quote_plus(search_text)).read()\n",
    "                     )\n",
    "    loc = geocode['results'][0]['geometry']['location'] # {u'lat': 37.000, u'lng': -122.000}\n",
    "        \n",
    "    return loc"
   ]
  },
  {
   "cell_type": "code",
   "execution_count": 9,
   "metadata": {
    "collapsed": true,
    "extensions": {
     "jupyter_dashboards": {
      "version": 1,
      "views": {
       "grid_default": {
        "hidden": true
       },
       "report_default": {
        "hidden": true
       }
      }
     }
    }
   },
   "outputs": [],
   "source": [
    "loc = get_geocoordinate(inputs['address'])"
   ]
  },
  {
   "cell_type": "code",
   "execution_count": 10,
   "metadata": {
    "collapsed": true,
    "extensions": {
     "jupyter_dashboards": {
      "version": 1,
      "views": {
       "grid_default": {
        "hidden": true
       },
       "report_default": {
        "hidden": true
       }
      }
     }
    }
   },
   "outputs": [],
   "source": [
    "# subset data based on location, grade, and subject\n",
    "def view_scores_in_neighborhood(loc, grade, subject, limit=20):\n",
    "    from scipy.spatial.distance import cdist\n",
    "    \n",
    "    test_id = 1 if subject == 'English' else 2\n",
    "\n",
    "    joined_df['dist'] = cdist([[loc['lat'], loc['lng']]], joined_df[['Latitude', 'Longitude']])[0]\n",
    "\n",
    "    matches = (joined_df.Grade == grade) & (joined_df['Test Id'] == test_id) & (joined_df['School'].notnull())\n",
    "    subset = joined_df[matches].sort_values(by='dist').head(limit).sort_values(by='District Code')\n",
    "    \n",
    "    return subset"
   ]
  },
  {
   "cell_type": "code",
   "execution_count": 11,
   "metadata": {
    "collapsed": false,
    "extensions": {
     "jupyter_dashboards": {
      "version": 1,
      "views": {
       "grid_default": {},
       "report_default": {
        "hidden": true
       }
      }
     }
    }
   },
   "outputs": [],
   "source": [
    "subset = view_scores_in_neighborhood(loc, inputs['grade'], inputs['subject'])"
   ]
  },
  {
   "cell_type": "code",
   "execution_count": 12,
   "metadata": {
    "collapsed": false,
    "extensions": {
     "jupyter_dashboards": {
      "version": 1,
      "views": {
       "grid_default": {
        "col": 4,
        "height": 4,
        "hidden": true,
        "row": 0,
        "width": 4
       },
       "report_default": {
        "hidden": true
       }
      }
     }
    }
   },
   "outputs": [
    {
     "data": {
      "text/html": [
       "<script>requirejs.config({paths: { 'plotly': ['https://cdn.plot.ly/plotly-latest.min']},});if(!window.Plotly) {{require(['plotly'],function(plotly) {window.Plotly=plotly;});}}</script>"
      ],
      "text/plain": [
       "<IPython.core.display.HTML object>"
      ]
     },
     "metadata": {},
     "output_type": "display_data"
    }
   ],
   "source": [
    "import cufflinks as cf\n",
    "#cf.go_offline(connected=True)\n",
    "# pypi version of cufflinks doesn't include the connected option, so paste relevant code:\n",
    "# https://github.com/santosjorge/cufflinks/commit/730f777cfeca233b63d774361bb96616f901b33e\n",
    "import plotly.offline as py_offline\n",
    "py_offline.init_notebook_mode(connected=True)\n",
    "py_offline.__PLOTLY_OFFLINE_INITIALIZED=True"
   ]
  },
  {
   "cell_type": "code",
   "execution_count": 13,
   "metadata": {
    "collapsed": false,
    "extensions": {
     "jupyter_dashboards": {
      "version": 1,
      "views": {
       "grid_default": {},
       "report_default": {
        "hidden": false
       }
      }
     }
    }
   },
   "outputs": [
    {
     "data": {
      "text/html": [
       "<div id=\"2014b20a-4d12-4ebb-bfeb-82005ecffe3b\" style=\"height: 525px; width: 100%;\" class=\"plotly-graph-div\"></div><script type=\"text/javascript\">require([\"plotly\"], function(Plotly) { window.PLOTLYENV=window.PLOTLYENV || {};window.PLOTLYENV.BASE_URL=\"https://plot.ly\";Plotly.newPlot(\"2014b20a-4d12-4ebb-bfeb-82005ecffe3b\", [{\"name\": \"Percentage Standard Exceeded\", \"text\": \"\", \"y\": [0, 19, 47, 18, 22, 2, 3, 15, 19, 57, 35, 0, 23, 27, 14, 8, 5, 8, 7, 17], \"marker\": {\"color\": \"rgba(255, 153, 51, 0.6)\", \"line\": {\"color\": \"rgba(255, 153, 51, 1.0)\", \"width\": 1}}, \"x\": [\"S.F. County Civic Center Secondary\", \"Milk (Harvey) Civil Rights Elementary\", \"San Francisco Public Montessori\", \"Lau (Gordon J.) Elementary\", \"Buena Vista/ Horace Mann K-8\", \"Edison Charter Academy\", \"Chavez (Cesar) Elementary\", \"Moscone (George R.) Elementary\", \"Spring Valley Elementary\", \"McKinley Elementary\", \"Creative Arts Charter\", \"Sanchez Elementary\", \"Redding Elementary\", \"Parks (Rosa) Elementary\", \"Carmichael (Bessie)/FEC\", \"Muir (John) Elementary\", \"Marshall Elementary\", \"Tenderloin Community\", \"Cobb (William L.) Elementary\", \"Parker (Jean) Elementary\"], \"type\": \"bar\", \"orientation\": \"v\"}, {\"name\": \"Percentage Standard Met\", \"text\": \"\", \"y\": [0, 27, 20, 33, 24, 11, 10, 26, 24, 21, 37, 18, 19, 27, 21, 8, 25, 14, 7, 24], \"marker\": {\"color\": \"rgba(55, 128, 191, 0.6)\", \"line\": {\"color\": \"rgba(55, 128, 191, 1.0)\", \"width\": 1}}, \"x\": [\"S.F. County Civic Center Secondary\", \"Milk (Harvey) Civil Rights Elementary\", \"San Francisco Public Montessori\", \"Lau (Gordon J.) Elementary\", \"Buena Vista/ Horace Mann K-8\", \"Edison Charter Academy\", \"Chavez (Cesar) Elementary\", \"Moscone (George R.) Elementary\", \"Spring Valley Elementary\", \"McKinley Elementary\", \"Creative Arts Charter\", \"Sanchez Elementary\", \"Redding Elementary\", \"Parks (Rosa) Elementary\", \"Carmichael (Bessie)/FEC\", \"Muir (John) Elementary\", \"Marshall Elementary\", \"Tenderloin Community\", \"Cobb (William L.) Elementary\", \"Parker (Jean) Elementary\"], \"type\": \"bar\", \"orientation\": \"v\"}, {\"name\": \"Percentage Standard Nearly Met\", \"text\": \"\", \"y\": [0, 22, 20, 27, 26, 31, 21, 37, 26, 6, 12, 26, 37, 18, 27, 38, 30, 17, 36, 30], \"marker\": {\"color\": \"rgba(50, 171, 96, 0.6)\", \"line\": {\"color\": \"rgba(50, 171, 96, 1.0)\", \"width\": 1}}, \"x\": [\"S.F. County Civic Center Secondary\", \"Milk (Harvey) Civil Rights Elementary\", \"San Francisco Public Montessori\", \"Lau (Gordon J.) Elementary\", \"Buena Vista/ Horace Mann K-8\", \"Edison Charter Academy\", \"Chavez (Cesar) Elementary\", \"Moscone (George R.) Elementary\", \"Spring Valley Elementary\", \"McKinley Elementary\", \"Creative Arts Charter\", \"Sanchez Elementary\", \"Redding Elementary\", \"Parks (Rosa) Elementary\", \"Carmichael (Bessie)/FEC\", \"Muir (John) Elementary\", \"Marshall Elementary\", \"Tenderloin Community\", \"Cobb (William L.) Elementary\", \"Parker (Jean) Elementary\"], \"type\": \"bar\", \"orientation\": \"v\"}, {\"name\": \"Percentage Standard Not Met\", \"text\": \"\", \"y\": [0, 32, 13, 22, 28, 55, 66, 23, 31, 16, 16, 56, 21, 27, 38, 46, 41, 61, 50, 28], \"marker\": {\"color\": \"rgba(128, 0, 128, 0.6)\", \"line\": {\"color\": \"rgba(128, 0, 128, 1.0)\", \"width\": 1}}, \"x\": [\"S.F. County Civic Center Secondary\", \"Milk (Harvey) Civil Rights Elementary\", \"San Francisco Public Montessori\", \"Lau (Gordon J.) Elementary\", \"Buena Vista/ Horace Mann K-8\", \"Edison Charter Academy\", \"Chavez (Cesar) Elementary\", \"Moscone (George R.) Elementary\", \"Spring Valley Elementary\", \"McKinley Elementary\", \"Creative Arts Charter\", \"Sanchez Elementary\", \"Redding Elementary\", \"Parks (Rosa) Elementary\", \"Carmichael (Bessie)/FEC\", \"Muir (John) Elementary\", \"Marshall Elementary\", \"Tenderloin Community\", \"Cobb (William L.) Elementary\", \"Parker (Jean) Elementary\"], \"type\": \"bar\", \"orientation\": \"v\"}], {\"barmode\": \"stack\", \"paper_bgcolor\": \"#FFFFFF\", \"plot_bgcolor\": \"#FFFFFF\", \"xaxis1\": {\"tickfont\": {\"color\": \"#4D5663\"}, \"title\": \"\", \"showgrid\": true, \"zerolinecolor\": \"#E1E5ED\", \"gridcolor\": \"#E1E5ED\", \"titlefont\": {\"color\": \"#4D5663\"}}, \"yaxis1\": {\"tickfont\": {\"color\": \"#4D5663\"}, \"title\": \"\", \"showgrid\": true, \"zerolinecolor\": \"#E1E5ED\", \"gridcolor\": \"#E1E5ED\", \"titlefont\": {\"color\": \"#4D5663\"}}, \"titlefont\": {\"color\": \"#4D5663\"}, \"xaxis\": {\"tickangle\": 45}, \"margin\": {\"b\": 120}, \"legend\": {\"bgcolor\": \"#FFFFFF\", \"font\": {\"color\": \"#4D5663\"}, \"traceorder\": \"normal\"}}, {\"linkText\": \"Export to plot.ly\", \"showLink\": true})});</script>"
      ],
      "text/plain": [
       "<IPython.core.display.HTML object>"
      ]
     },
     "metadata": {},
     "output_type": "display_data"
    }
   ],
   "source": [
    "# get data columns\n",
    "cols = subset.columns[subset.columns.str.contains('Percentage')]\n",
    "\n",
    "# plot\n",
    "subset.set_index('School', inplace=True) # show school on x axis\n",
    "subset[cols].iplot(kind='bar', barmode='stack', \n",
    "     layout_update=dict(xaxis=dict(tickangle=45), margin=dict(b=120)))"
   ]
  },
  {
   "cell_type": "code",
   "execution_count": 14,
   "metadata": {
    "collapsed": false,
    "extensions": {
     "jupyter_dashboards": {
      "version": 1,
      "views": {
       "grid_default": {
        "hidden": true
       },
       "report_default": {
        "hidden": false
       }
      }
     }
    }
   },
   "outputs": [
    {
     "data": {
      "text/html": [
       "<div style=\"width:100%;\"><div style=\"position:relative;width:100%;height:0;padding-bottom:60%;\"><iframe src=\"data:text/html;base64,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\" style=\"position:absolute;width:100%;height:100%;left:0;top:0;\"></iframe></div></div>"
      ],
      "text/plain": [
       "<folium.folium.Map at 0x1174a62d0>"
      ]
     },
     "execution_count": 14,
     "metadata": {},
     "output_type": "execute_result"
    }
   ],
   "source": [
    "import folium\n",
    "fmap = folium.Map(location=[loc['lat'], loc['lng']], tiles='Stamen Toner', zoom_start=12, max_zoom=15)\n",
    "for i, (index, row) in enumerate(subset.iterrows()):\n",
    "    fmap.add_children(\n",
    "        folium.CircleMarker([row['Latitude'], row['Longitude']], radius=200, \n",
    "                       fill_color='blue', popup=index))\n",
    "fmap"
   ]
  }
 ],
 "metadata": {
  "dappled": {
   "form": {
    "json": [
     "{",
     "  \"address\": \"\",",
     "  \"grade\": [",
     "    3,",
     "    4,",
     "    5,",
     "    6,",
     "    7,",
     "    8,",
     "    11,",
     "    13",
     "  ],",
     "  \"subject\": [",
     "    \"English\",",
     "    \"Math\"",
     "  ]",
     "}"
    ],
    "json_schema": [
     "{",
     "  \"type\": \"object\",",
     "  \"title\": \" \",",
     "  \"properties\": {",
     "    \"address\": {",
     "      \"default\": \"\",",
     "      \"type\": \"string\",",
     "      \"title\": \"Address\"",
     "    },",
     "    \"grade\": {",
     "      \"default\": 3,",
     "      \"enum\": [",
     "        3,",
     "        4,",
     "        5,",
     "        6,",
     "        7,",
     "        8,",
     "        11,",
     "        13",
     "      ],",
     "      \"type\": \"number\",",
     "      \"title\": \"Grade\"",
     "    },",
     "    \"subject\": {",
     "      \"default\": \"English\",",
     "      \"enum\": [",
     "        \"English\",",
     "        \"Math\"",
     "      ],",
     "      \"type\": \"string\",",
     "      \"title\": \"Subject\"",
     "    }",
     "  }",
     "}"
    ]
   }
  },
  "extensions": {
   "jupyter_dashboards": {
    "activeView": "report_default",
    "version": 1,
    "views": {
     "grid_default": {
      "cellMargin": 10,
      "defaultCellHeight": 20,
      "maxColumns": 12,
      "name": "grid",
      "type": "grid"
     },
     "report_default": {
      "name": "report",
      "type": "report"
     }
    }
   }
  },
  "kernelspec": {
   "display_name": "Python 2",
   "language": "python",
   "name": "python2"
  },
  "language_info": {
   "codemirror_mode": {
    "name": "ipython",
    "version": 2
   },
   "file_extension": ".py",
   "mimetype": "text/x-python",
   "name": "python",
   "nbconvert_exporter": "python",
   "pygments_lexer": "ipython2",
   "version": "2.7.13"
  }
 },
 "nbformat": 4,
 "nbformat_minor": 2
}
